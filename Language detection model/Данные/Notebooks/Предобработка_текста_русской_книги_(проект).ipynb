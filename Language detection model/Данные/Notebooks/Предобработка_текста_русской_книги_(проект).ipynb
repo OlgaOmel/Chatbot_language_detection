{
  "cells": [
    {
      "cell_type": "code",
      "source": [
        "pip install nltk\n",
        "# encoding\n",
        "pip install chardet\n",
        "import re\n",
        "import pandas as pd"
      ],
      "metadata": {
        "id": "F-xntWozOZLU"
      },
      "execution_count": null,
      "outputs": []
    },
    {
      "cell_type": "code",
      "source": [
        "import chardet\n",
        "with open('book.txt', 'rb') as f:\n",
        "    result = chardet.detect(f.read())\n",
        "encoding = result['encoding']\n",
        "print(encoding)"
      ],
      "metadata": {
        "colab": {
          "base_uri": "https://localhost:8080/"
        },
        "id": "sSjYVpHfxnGD",
        "outputId": "3b0e17f8-8cbe-4fd5-b52b-502c0a045836"
      },
      "execution_count": null,
      "outputs": [
        {
          "output_type": "stream",
          "name": "stdout",
          "text": [
            "windows-1251\n"
          ]
        }
      ]
    },
    {
      "cell_type": "code",
      "source": [
        "with open('book.txt', 'r', encoding='windows-1251') as f:\n",
        "    book_text = f.read()"
      ],
      "metadata": {
        "id": "GXvfL_RTPtuq"
      },
      "execution_count": null,
      "outputs": []
    },
    {
      "cell_type": "code",
      "source": [
        "import nltk\n",
        "nltk.download('punkt')\n",
        "sentences = nltk.sent_tokenize(book_text)\n",
        "list_book = []\n",
        "for sentence in sentences:\n",
        "    parts = sentence.split('\\n')\n",
        "    for part in parts:\n",
        "        part = part.replace('\\xa0', ' ')\n",
        "        part = part.replace('\\x14', ' ')\n",
        "        part = part.replace('\\x15', ' ')\n",
        "        if part.strip():\n",
        "            list_book.append(part.strip())\n",
        "\n",
        "long_sent = []\n",
        "for sentence in list_book:\n",
        "    words = sentence.split()\n",
        "    if len(words) > 2:\n",
        "        long_sent.append(sentence)\n",
        "\n",
        "filtered_sentences = [sentence for sentence in long_sent if '\\\\' not in sentence]\n",
        "filterednew_sentences = [sentence for sentence in filtered_sentences if \"'\" not in sentence]\n",
        "\n",
        "a = []\n",
        "for i in filterednew_sentences:\n",
        "    if not i.startswith(\"-\"):\n",
        "        a.append(i)\n",
        "b = []\n",
        "for i in a:\n",
        "    if not i.startswith(\")\") or not i.startswith(\"(\"):\n",
        "        b.append(i)\n",
        "c = []\n",
        "for i in b:\n",
        "    if not re.match(r'^\\d+\\)', i):\n",
        "        c.append(i)\n",
        "\n",
        "filtered_sentences = [s for s in c if not s[0].isdigit()]\n",
        "filtered_sentences1 = [s for s in filtered_sentences if not s[0] == \":\"]\n",
        "filtered_sentences2 = [s for s in filtered_sentences1 if not s[0] == \")\"]"
      ],
      "metadata": {
        "id": "dWb_QerVmKNE"
      },
      "execution_count": null,
      "outputs": []
    },
    {
      "cell_type": "code",
      "source": [
        "df = pd.DataFrame(filtered_sentences2)\n",
        "df.columns =['Text']\n",
        "df.to_csv(\"bridget_sentences.csv\", index = False)"
      ],
      "metadata": {
        "id": "tOBEMO946kC0"
      },
      "execution_count": null,
      "outputs": []
    }
  ],
  "metadata": {
    "kernelspec": {
      "display_name": "Python 3 (ipykernel)",
      "language": "python",
      "name": "python3"
    },
    "language_info": {
      "codemirror_mode": {
        "name": "ipython",
        "version": 3
      },
      "file_extension": ".py",
      "mimetype": "text/x-python",
      "name": "python",
      "nbconvert_exporter": "python",
      "pygments_lexer": "ipython3",
      "version": "3.10.0"
    },
    "colab": {
      "provenance": []
    }
  },
  "nbformat": 4,
  "nbformat_minor": 0
}