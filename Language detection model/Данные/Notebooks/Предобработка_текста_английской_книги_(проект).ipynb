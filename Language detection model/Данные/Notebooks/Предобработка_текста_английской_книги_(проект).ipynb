{
  "cells": [
    {
      "cell_type": "code",
      "source": [
        "pip install nltk\n",
        "import re\n",
        "import pandas as pd"
      ],
      "metadata": {
        "id": "F-xntWozOZLU"
      },
      "execution_count": null,
      "outputs": []
    },
    {
      "cell_type": "code",
      "source": [
        "with open('book.txt', 'r', encoding='Windows-1252') as f:\n",
        "    book_text = f.read()"
      ],
      "metadata": {
        "id": "GXvfL_RTPtuq"
      },
      "execution_count": null,
      "outputs": []
    },
    {
      "cell_type": "code",
      "source": [
        "import nltk\n",
        "nltk.download('punkt')\n",
        "sentences = nltk.sent_tokenize(book_text)\n",
        "list_book = []\n",
        "for sentence in sentences:\n",
        "    words = sentence.split()\n",
        "    if len(words) > 3 and not sentence.startswith(')') and not sentence.startswith('(') and not sentence.startswith('\\\\')and not sentence.startswith('/'):\n",
        "        parts = sentence.split('\\n')\n",
        "        for part in parts:\n",
        "            part = part.replace('\\xa0', ' ')\n",
        "            if part.strip():\n",
        "                list_book.append(part.strip())\n",
        "\n",
        "long_sent = []\n",
        "for sentence in list_book:\n",
        "    words = sentence.split()\n",
        "    if len(words) > 2:\n",
        "        long_sent.append(sentence)\n",
        "\n",
        "filtered_sentences = [sentence for sentence in long_sent if '\\\\' not in sentence]\n",
        "filterednew_sentences = [sentence for sentence in filtered_sentences if \"'\" not in sentence]\n",
        "filtered_sentences = [sentence for sentence in filterednew_sentences if not re.match(r'^\\d+\\)', sentence)]"
      ],
      "metadata": {
        "id": "dWb_QerVmKNE"
      },
      "execution_count": null,
      "outputs": []
    },
    {
      "cell_type": "code",
      "source": [
        "df = pd.DataFrame(filtered_sentences)\n",
        "df.columns =['Text']\n",
        "df.to_csv(\"bridget_sentences.csv\", index = False)"
      ],
      "metadata": {
        "id": "C6wuQ_NruIFB"
      },
      "execution_count": null,
      "outputs": []
    }
  ],
  "metadata": {
    "kernelspec": {
      "display_name": "Python 3 (ipykernel)",
      "language": "python",
      "name": "python3"
    },
    "language_info": {
      "codemirror_mode": {
        "name": "ipython",
        "version": 3
      },
      "file_extension": ".py",
      "mimetype": "text/x-python",
      "name": "python",
      "nbconvert_exporter": "python",
      "pygments_lexer": "ipython3",
      "version": "3.10.0"
    },
    "colab": {
      "provenance": []
    }
  },
  "nbformat": 4,
  "nbformat_minor": 0
}