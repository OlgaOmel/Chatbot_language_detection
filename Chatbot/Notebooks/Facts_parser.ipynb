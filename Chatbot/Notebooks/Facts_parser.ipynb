{
  "nbformat": 4,
  "nbformat_minor": 0,
  "metadata": {
    "colab": {
      "provenance": []
    },
    "kernelspec": {
      "name": "python3",
      "display_name": "Python 3"
    },
    "language_info": {
      "name": "python"
    }
  },
  "cells": [
    {
      "cell_type": "code",
      "source": [
        "pip install googletrans==3.1.0a0\n",
        "import pandas as pd\n",
        "from bs4 import BeautifulSoup as bs\n",
        "import requests as rq\n",
        "import urllib\n",
        "from googletrans import Translator\n",
        "translator = Translator()\n",
        "\n",
        "url = 'https://thrivemyway.com/chatbot-statistics/'\n",
        "response = rq.get(url)\n",
        "\n",
        "soup = bs(response.text, 'html.parser')\n",
        "rows = soup.find_all('li')\n",
        "List = []\n",
        "for r in rows:\n",
        "    List.append(r.text)\n",
        "\n",
        "facts = pd.DataFrame(List[30:147], columns = [\"fact\"])\n",
        "en_texts = facts[\"fact\"].to_list()\n",
        "\n",
        "\n",
        "rus_texts = []\n",
        "for i in en_texts:\n",
        "    translated = translator.translate(i, dest='ru')\n",
        "    translated = translated.text\n",
        "    rus_texts.append(translated)\n",
        "\n",
        "facts.to_csv('en_texts.csv')\n",
        "df = pd.DataFrame(rus_texts)\n",
        "df.to_csv('rus_texts.csv')"
      ],
      "metadata": {
        "id": "ioYoTBBBbhpd"
      },
      "execution_count": null,
      "outputs": []
    }
  ]
}